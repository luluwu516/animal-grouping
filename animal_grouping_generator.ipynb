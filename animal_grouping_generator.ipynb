{
 "cells": [
  {
   "cell_type": "markdown",
   "id": "5cee8f7e-4cc0-4302-b38a-1afe64cdd013",
   "metadata": {},
   "source": [
    "### Animal grouping generator\n",
    "The program is for experimental animal grouping.\n",
    "\n",
    "I had a project about supplements feed for swine, and before the experiment, I had to group the piglets. I randomly grouped them first, but the deviation of the piglets' weight was too large. It could be a better design that one of the groups had the strongest or weakest piglets, so I spent more than 1 hour arranging the groups. I did the same thing twice for my project, which was really a waste of time.\n",
    "\n",
    "I decided to write a program for it then, and I did. I hope it is helpful."
   ]
  },
  {
   "cell_type": "code",
   "execution_count": 1,
   "id": "e75f08be-696a-494f-b8c9-5ef09fecd0aa",
   "metadata": {},
   "outputs": [],
   "source": [
    "import os\n",
    "import numpy as np\n",
    "import pandas as pd\n",
    "import random\n",
    "\n",
    "# If the animals' weight deviation is slight, the constant can lower to under 1.0\n",
    "ALLOWED = 1.0"
   ]
  },
  {
   "cell_type": "code",
   "execution_count": 2,
   "id": "11632530-c0ce-4d93-a2d4-36da2b137e50",
   "metadata": {},
   "outputs": [],
   "source": [
    "def import_excel(filename: str) -> pd.core.frame.DataFrame:\n",
    "    \"\"\"\n",
    "    Import the data in the excel file's sheet 1 as a dataframe\n",
    "    note: the file should be in the same directory\n",
    "    \"\"\"\n",
    "    path = os.path.join(filename)  # in the same directory\n",
    "    df = pd.read_excel(path)\n",
    "    \n",
    "    return df"
   ]
  },
  {
   "cell_type": "code",
   "execution_count": 3,
   "id": "286d15d1-10b5-4666-8fd9-2a5479476615",
   "metadata": {},
   "outputs": [],
   "source": [
    "def grouping_randomly(array: np.ndarray, group_number: int, max_number_per_group: int) -> np.ndarray:\n",
    "    \"\"\"\n",
    "    Group the ndarray data randomly into group_number, \n",
    "    each group cannot have more than the max_number_per_group \n",
    "    and return as a ndarray\n",
    "    \"\"\"\n",
    "    # create a grouped data container\n",
    "    randomly_grouped_data = []\n",
    "    for i in range(group_number):\n",
    "        randomly_grouped_data.append(list())\n",
    "        \n",
    "    # iterate every data\n",
    "    for data in array:\n",
    "        # randomly assign into the different groups\n",
    "        i = random.randrange(group_number)\n",
    "        full = (len(randomly_grouped_data[i]) == max_number_per_group)\n",
    "        \n",
    "        # find the unfulfilled group\n",
    "        while full:\n",
    "            i = random.randrange(group_number)  \n",
    "            full = (len(randomly_grouped_data[i]) == max_number_per_group)\n",
    "        randomly_grouped_data[i].append(data)\n",
    "    \n",
    "    return np.array(randomly_grouped_data)"
   ]
  },
  {
   "cell_type": "code",
   "execution_count": 4,
   "id": "e42a4bf0-75e6-4757-82a6-5d8e864a60f3",
   "metadata": {},
   "outputs": [],
   "source": [
    "def check_std_for_each_group(grouped_data: np.ndarray, group_number: int) -> bool:\n",
    "    \"\"\"\n",
    "    Check the standard deviation (std) is in the allowed range\n",
    "    \"\"\"\n",
    "    std = grouped_data.std()\n",
    "    \n",
    "    # create a container for the std of each group\n",
    "    std_of_each_group = []\n",
    "    for i in range(group_number):\n",
    "        std_of_each_group.append(grouped_data[i].std())\n",
    "    \n",
    "    for i in range(group_number):\n",
    "        if (std_of_each_group[i] > std * ALLOWED):\n",
    "            return True\n",
    "    return False"
   ]
  },
  {
   "cell_type": "code",
   "execution_count": 5,
   "id": "803ab06d-4bc4-4849-9a22-6f220db78c06",
   "metadata": {},
   "outputs": [],
   "source": [
    "class Animal_grouping_generator():\n",
    "    def __init__(self, filename: str, group_number: int):\n",
    "        self.df = import_excel(filename)\n",
    "        self.sample_size = self.df.shape[0]\n",
    "        self.weight_ndarray = np.array(self.df[\"Weight\"])\n",
    "        self.mean = self.weight_ndarray.mean()\n",
    "        self.std = self.weight_ndarray.std()\n",
    "        self.group_number = group_number\n",
    "        self.number_per_group = self.sample_size // self.group_number  \n",
    "        self.max_number_per_group = self.number_per_group if self.sample_size % self.group_number == 0 else self.number_per_group + 1\n",
    "        \n",
    "    \n",
    "    def grouping(self, ndarray: np.ndarray, max_number: int):\n",
    "        grouped_ndarray = grouping_randomly(ndarray, self.group_number, max_number)\n",
    "        check = check_std_for_each_group(grouped_ndarray, self.group_number)\n",
    "        counter = 0\n",
    "        while check:\n",
    "            grouped_ndarray = grouping_randomly(ndarray, self.group_number, max_number)\n",
    "            check = check_std_for_each_group(grouped_ndarray, self.group_number)\n",
    "            counter += 1\n",
    "            if counter > 99:\n",
    "                print(f\"Tried {counter} times.\\nThe deviation of the data is too big. Please try again or adjust the constant.\\n\")\n",
    "                break\n",
    "        \n",
    "        return grouped_ndarray\n",
    "    \n",
    "    \n",
    "    def convert_ndarray_to_df(self, grouped_ndarray):\n",
    "        grouped_df = pd.DataFrame()\n",
    "        for i in range(self.group_number):\n",
    "            grouped_df[f\"Group {i+1}\"] = grouped_ndarray[i]\n",
    "            \n",
    "        return grouped_df\n",
    "    \n",
    "    \n",
    "    def get_grouped_data(self):\n",
    "        grouped_ndarray =  self.grouping(self.weight_ndarray, self.max_number_per_group)\n",
    "        return self.convert_ndarray_to_df(grouped_ndarray)\n",
    "        "
   ]
  },
  {
   "cell_type": "code",
   "execution_count": 6,
   "id": "2d763edc-1721-4be1-8185-16cae5de5129",
   "metadata": {},
   "outputs": [
    {
     "name": "stdout",
     "output_type": "stream",
     "text": [
      "   Group 1  Group 2  Group 3  Group 4  Group 5\n",
      "0    15.83    15.09    14.25    14.41    14.30\n",
      "1    18.20    17.12    16.16    15.81    14.25\n",
      "2    18.76    17.55    16.55    15.85    15.09\n",
      "3    19.22    15.60    17.49    16.12    21.59\n",
      "4    19.26    17.12    15.75    15.89    14.64\n",
      "5    19.53    14.55    16.63    17.20    15.66\n",
      "6    16.34    14.25    19.93    16.14    15.70\n",
      "7    15.96    14.75    16.03    15.60    16.17\n",
      "8    20.30    20.45    16.06    16.67    16.35\n",
      "9    23.40    20.58    22.55    17.75    16.35\n",
      "\n",
      "         Group 1    Group 2    Group 3   Group 4    Group 5\n",
      "count  10.000000  10.000000  10.000000  10.00000  10.000000\n",
      "mean   18.680000  16.706000  17.140000  16.14400  16.010000\n",
      "std     2.297017   2.319517   2.390397   0.91511   2.117567\n",
      "min    15.830000  14.250000  14.250000  14.41000  14.250000\n",
      "25%    16.805000  14.835000  16.037500  15.82000  14.752500\n",
      "50%    18.990000  16.360000  16.355000  16.00500  15.680000\n",
      "75%    19.462500  17.442500  17.275000  16.53750  16.305000\n",
      "max    23.400000  20.580000  22.550000  17.75000  21.590000\n"
     ]
    }
   ],
   "source": [
    "ALLOWED = 1.09\n",
    "grouping_tester = Animal_grouping_generator(\"data.xlsx\", 5)\n",
    "grouped_df = grouping_tester.get_grouped_data()\n",
    "print(grouped_df, grouped_df.describe(), sep = '\\n\\n')"
   ]
  },
  {
   "cell_type": "code",
   "execution_count": 7,
   "id": "3ef3d5e5-e8de-4ed7-a292-f89ebf546ab7",
   "metadata": {},
   "outputs": [],
   "source": [
    "class Animal_grouping_generator_based_on_gender(Animal_grouping_generator):\n",
    "    def __init__(self, filename, group_number):\n",
    "        Animal_grouping_generator.__init__(self, filename, group_number)\n",
    "        \n",
    "        # female\n",
    "        self.female_df = self.df[self.df[\"Sex\"] == 'F']\n",
    "        self.female_weight_ndarray = np.array(self.female_df[\"Weight\"])\n",
    "        self.female_sample_size = self.female_df.shape[0]\n",
    "        self.female_mean = self.female_weight_ndarray.mean()\n",
    "        self.female_std = self.female_weight_ndarray.std()\n",
    "        self.female_number_per_group = self.female_sample_size // self.group_number  \n",
    "        self.female_max_number_per_group = self.female_number_per_group if self.female_sample_size % self.group_number == 0 else self.female_number_per_group + 1\n",
    "        \n",
    "        # male\n",
    "        self.male_df = self.df[self.df[\"Sex\"] == 'M']\n",
    "        self.male_weight_ndarray = np.array(self.male_df[\"Weight\"])\n",
    "        self.male_sample_size = self.male_df.shape[0]\n",
    "        self.male_mean = self.female_weight_ndarray.mean()\n",
    "        self.male_std = self.female_weight_ndarray.std()\n",
    "        self.male_number_per_group = self.male_sample_size // self.group_number  \n",
    "        self.male_max_number_per_group = self.male_number_per_group if self.male_sample_size % self.group_number == 0 else self.male_number_per_group + 1\n",
    "        \n",
    "        # grouped data\n",
    "        self.grouped_female_data()\n",
    "        self.grouped_male_data()\n",
    "        \n",
    "    \n",
    "    def grouped_female_data(self):\n",
    "        self.grouped_female_ndarray = self.grouping(self.female_weight_ndarray, self.female_max_number_per_group)\n",
    "        self.grouped_female_list = self.grouped_female_ndarray.tolist()\n",
    "        self.grouped_female_df = self.convert_ndarray_to_df(self.grouped_female_ndarray)\n",
    "        \n",
    "        \n",
    "    def grouped_male_data(self):\n",
    "        self.grouped_male_ndarray = self.grouping(self.male_weight_ndarray, self.male_max_number_per_group)\n",
    "        self.grouped_male_list = self.grouped_male_ndarray.tolist()\n",
    "        self.grouped_male_df = self.convert_ndarray_to_df(self.grouped_male_ndarray)\n",
    "        \n",
    "        \n",
    "    def combining_two_sex(self):\n",
    "        group_label = []\n",
    "        for i in range(self.group_number):\n",
    "            group_label.append(i)\n",
    "        \n",
    "        # group container\n",
    "        grouped_list = []\n",
    "        for i in range(self.group_number):\n",
    "            number = random.choice(group_label)\n",
    "            grouped_list.append(self.grouped_female_list[i] + self.grouped_male_list[number])\n",
    "            group_label.pop(group_label.index(number))\n",
    "            \n",
    "        grouped_ndarray = np.array(grouped_list)\n",
    "        \n",
    "        return grouped_ndarray\n",
    "        \n",
    "    \n",
    "    def grouping_with_two_gender(self):\n",
    "        grouped_ndarray = self.combining_two_sex()\n",
    "        check = check_std_for_each_group(grouped_ndarray, self.group_number)\n",
    "        while check:\n",
    "            grouped_ndarray = self.combining_two_sex()\n",
    "            check = check_std_for_each_group(grouped_ndarray, self.group_number)\n",
    "        \n",
    "        return grouped_ndarray\n",
    "    \n",
    "    \n",
    "    def get_grouped_data(self):\n",
    "        grouped_ndarray =  self.grouping_with_two_gender()\n",
    "        return self.convert_ndarray_to_df(grouped_ndarray)\n",
    "    \n",
    "    \n",
    "    def get_grouped_female_data(self):\n",
    "        return self.grouped_female_df\n",
    "    \n",
    "    \n",
    "    def get_grouped_male_data(self):\n",
    "        return self.grouped_male_df"
   ]
  },
  {
   "cell_type": "code",
   "execution_count": 8,
   "id": "e216432e-ebd2-4e7a-9640-399769493a0a",
   "metadata": {},
   "outputs": [
    {
     "name": "stdout",
     "output_type": "stream",
     "text": [
      "   Group 1  Group 2  Group 3  Group 4  Group 5\n",
      "0    16.35    21.59    16.34    14.25    14.25\n",
      "1    15.60    17.12    16.03    14.55    14.64\n",
      "2    16.63    17.55    14.75    14.25    16.12\n",
      "3    15.96    17.20    16.06    15.75    15.60\n",
      "4    15.09    14.30    15.66    15.81    15.09\n",
      "5    15.85    14.41    15.89    16.14    15.70\n",
      "6    16.67    16.16    16.55    16.17    15.83\n",
      "7    17.49    16.35    20.30    18.20    19.26\n",
      "8    17.75    17.12    20.45    18.76    20.58\n",
      "9    19.93    19.53    23.40    19.22    22.55\n",
      "\n",
      "         Group 1    Group 2    Group 3    Group 4    Group 5\n",
      "count  10.000000  10.000000  10.000000  10.000000  10.000000\n",
      "mean   16.732000  17.133000  17.543000  16.310000  16.962000\n",
      "std     1.388435   2.180459   2.815765   1.833018   2.814359\n",
      "min    15.090000  14.300000  14.750000  14.250000  14.250000\n",
      "25%    15.877500  16.207500  15.925000  14.850000  15.217500\n",
      "50%    16.490000  17.120000  16.200000  15.975000  15.765000\n",
      "75%    17.285000  17.462500  19.362500  17.692500  18.475000\n",
      "max    19.930000  21.590000  23.400000  19.220000  22.550000\n"
     ]
    }
   ],
   "source": [
    "ALLOWED = 1.25\n",
    "grouping_tester = Animal_grouping_generator_based_on_gender(\"data.xlsx\", 5)\n",
    "df = grouping_tester.get_grouped_data()\n",
    "print(df, df.describe(), sep = \"\\n\\n\")"
   ]
  },
  {
   "cell_type": "code",
   "execution_count": 9,
   "id": "c6a9874b-73f2-407e-8d15-2f8bb61bb532",
   "metadata": {},
   "outputs": [
    {
     "name": "stdout",
     "output_type": "stream",
     "text": [
      "   Group 1  Group 2  Group 3  Group 4  Group 5\n",
      "0    16.35    21.59    16.34    14.25    14.25\n",
      "1    15.60    17.12    16.03    14.55    14.64\n",
      "2    16.63    17.55    14.75    14.25    16.12\n",
      "3    15.96    17.20    16.06    15.75    15.60\n",
      "\n",
      "         Group 1    Group 2    Group 3    Group 4    Group 5\n",
      "count   4.000000   4.000000   4.000000   4.000000   4.000000\n",
      "mean   16.135000  18.365000  15.795000  14.700000  15.152500\n",
      "std     0.450222   2.158093   0.710516   0.714143   0.858967\n",
      "min    15.600000  17.120000  14.750000  14.250000  14.250000\n",
      "25%    15.870000  17.180000  15.710000  14.250000  14.542500\n",
      "50%    16.155000  17.375000  16.045000  14.400000  15.120000\n",
      "75%    16.420000  18.560000  16.130000  14.850000  15.730000\n",
      "max    16.630000  21.590000  16.340000  15.750000  16.120000\n"
     ]
    }
   ],
   "source": [
    "df_f = grouping_tester.get_grouped_female_data()\n",
    "print(df_f, df_f.describe(), sep = \"\\n\\n\")"
   ]
  },
  {
   "cell_type": "code",
   "execution_count": 10,
   "id": "9061877f-cb7c-45fa-84ae-bcaf244458be",
   "metadata": {},
   "outputs": [
    {
     "name": "stdout",
     "output_type": "stream",
     "text": [
      "   Group 1  Group 2  Group 3  Group 4  Group 5\n",
      "0    15.81    15.66    15.09    15.09    14.30\n",
      "1    16.14    15.89    15.70    15.85    14.41\n",
      "2    16.17    16.55    15.83    16.67    16.16\n",
      "3    18.20    20.30    19.26    17.49    16.35\n",
      "4    18.76    20.45    20.58    17.75    17.12\n",
      "5    19.22    23.40    22.55    19.93    19.53\n",
      "\n",
      "         Group 1    Group 2    Group 3    Group 4    Group 5\n",
      "count   6.000000   6.000000   6.000000   6.000000   6.000000\n",
      "mean   17.383333  18.708333  18.168333  17.130000  16.311667\n",
      "std     1.511882   3.145546   3.073873   1.695028   1.933840\n",
      "min    15.810000  15.660000  15.090000  15.090000  14.300000\n",
      "25%    16.147500  16.055000  15.732500  16.055000  14.847500\n",
      "50%    17.185000  18.425000  17.545000  17.080000  16.255000\n",
      "75%    18.620000  20.412500  20.250000  17.685000  16.927500\n",
      "max    19.220000  23.400000  22.550000  19.930000  19.530000\n"
     ]
    }
   ],
   "source": [
    "df_m = grouping_tester.get_grouped_male_data()\n",
    "print(df_m, df_m.describe(), sep = \"\\n\\n\")"
   ]
  },
  {
   "cell_type": "code",
   "execution_count": null,
   "id": "8ab1ca83-89c7-409e-8c3b-7a574d2b52ca",
   "metadata": {},
   "outputs": [],
   "source": []
  },
  {
   "cell_type": "markdown",
   "id": "96baff93-b748-4034-b8fb-62b5ed1ced80",
   "metadata": {},
   "source": [
    "### Conclusion\n",
    "As you can see, the heaviest female piglet weighed 21.59 kg, and the lightest weighed 14.25 kg. Moreover, in the male group, the heaviest piglet weighed 23.40 kg, and the lightest one weighed only 14.30 kg. It's really really hard to arrange by ourselves. \n",
    "\n",
    "Fortunately, for now, the only thing we need to do is to run the program, and the program will group them immediately. Thank python, and good luck with your experiment!"
   ]
  }
 ],
 "metadata": {
  "kernelspec": {
   "display_name": "Python 3 (ipykernel)",
   "language": "python",
   "name": "python3"
  },
  "language_info": {
   "codemirror_mode": {
    "name": "ipython",
    "version": 3
   },
   "file_extension": ".py",
   "mimetype": "text/x-python",
   "name": "python",
   "nbconvert_exporter": "python",
   "pygments_lexer": "ipython3",
   "version": "3.9.5"
  }
 },
 "nbformat": 4,
 "nbformat_minor": 5
}
